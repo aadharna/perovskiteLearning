{
 "cells": [
  {
   "cell_type": "code",
   "execution_count": 1,
   "metadata": {},
   "outputs": [],
   "source": [
    "import pandas as pd\n",
    "import numpy as np\n",
    "\n",
    "import pickle\n",
    "\n",
    "import matplotlib.pyplot as plt\n",
    "%matplotlib inline"
   ]
  },
  {
   "cell_type": "code",
   "execution_count": 2,
   "metadata": {},
   "outputs": [],
   "source": [
    "from dml import LMNN, NCA, LDA, MultiDML_kNN, KLLDA, DML_eig\n",
    "from dml import LSI\n",
    "from dml import MCML\n",
    "from dml import tune_knn\n",
    "\n",
    "from joblib import dump, load\n",
    "\n",
    "from sklearn.model_selection import train_test_split"
   ]
  },
  {
   "cell_type": "code",
   "execution_count": 3,
   "metadata": {},
   "outputs": [],
   "source": []
  },
  {
   "cell_type": "code",
   "execution_count": 4,
   "metadata": {},
   "outputs": [],
   "source": [
    "DATAFILE = '/home/jupyter/sd2e-community/versioned-dataframes\\\n",
    "/perovskite/perovskitedata/0057.perovskitedata.csv'"
   ]
  },
  {
   "cell_type": "code",
   "execution_count": 5,
   "metadata": {},
   "outputs": [
    {
     "data": {
      "text/plain": [
       "'/home/jupyter/sd2e-community/versioned-dataframes/perovskite/perovskitedata/0057.perovskitedata.csv'"
      ]
     },
     "execution_count": 5,
     "metadata": {},
     "output_type": "execute_result"
    }
   ],
   "source": [
    "DATAFILE"
   ]
  },
  {
   "cell_type": "code",
   "execution_count": 36,
   "metadata": {},
   "outputs": [],
   "source": [
    "def _stratify(data0, out, inchis, sampleCutoff):\n",
    "\n",
    "    stratifiedData0 = pd.DataFrame()\n",
    "    stratifiedOut = pd.DataFrame()\n",
    "    \n",
    "    indicies = {}\n",
    "    for i, x in enumerate(np.unique(inchis.values.flatten())):\n",
    "        z = (inchis.values == x).flatten()\n",
    "        # print(x, z.sum())\n",
    "        if z.sum() < sampleCutoff:\n",
    "            continue\n",
    "        total_amine0 = data0[z].reset_index(drop=True)\n",
    "\n",
    "        amine_out = out[z].reset_index(drop=True)\n",
    "\n",
    "        # this is still experimental and can easily be changed.\n",
    "        uniformSamples = np.random.choice(total_amine0.index, size=sampleCutoff, replace=False)\n",
    "        sampled_amine0 = total_amine0.loc[uniformSamples]\n",
    "        \n",
    "        sampled_out = amine_out.loc[uniformSamples]\n",
    "\n",
    "        # save pointer to where this amine lives in the stratified dataset.\n",
    "        # this isn't needed for random-TTS, but makes doing the Leave-One-Amine-Out \n",
    "        # train-test-splitting VERY EASY. \n",
    "        indicies[x] = np.array(range(96)) + i*96\n",
    "\n",
    "        stratifiedData0 = pd.concat([stratifiedData0, sampled_amine0]).reset_index(drop=True)\n",
    "        stratifiedOut = pd.concat([stratifiedOut, sampled_out]).reset_index(drop=True)\n",
    "        \n",
    "    stratifiedOut = np.array(stratifiedOut, dtype=int)\n",
    "    return stratifiedData0, stratifiedOut.squeeze(), indicies"
   ]
  },
  {
   "cell_type": "code",
   "execution_count": 7,
   "metadata": {},
   "outputs": [],
   "source": [
    "def _prepare(minimal=False, sampleCutoff=95):\n",
    "    \n",
    "    perov = pd.read_csv(DATAFILE, skiprows=4, low_memory=False)\n",
    "    perov = perov[perov['_raw_expver'] == 1.1].reset_index(drop=True)       \n",
    "    perov = perov[perov['_raw_reagent_0_chemicals_0_inchikey'] \n",
    "                  == \"YEJRWHAVMIAJKC-UHFFFAOYSA-N\"].reset_index(drop=True)\n",
    "    # removes three reactions\n",
    "    perov = perov[perov['_rxn_organic-inchikey'] != 'JMXLWMIFDJCGBV-UHFFFAOYSA-N'].reset_index(drop=True)    \n",
    "    \n",
    "    newInchis = perov['_rxn_organic-inchikey'].dropna()\n",
    "    perov = perov.iloc[newInchis.index].reset_index(drop=True)\n",
    "    \n",
    "    inchis = pd.DataFrame.from_dict({\"inchis\":perov['_rxn_organic-inchikey'].values})\n",
    "        \n",
    "    cleanPerov = perov.drop(labels=[raw for raw in perov.columns if \"raw\" in raw], axis=1)\n",
    "    cleanPerov = cleanPerov.select_dtypes(exclude=['object'])\n",
    "    \n",
    "    cleanPerov.fillna(0, inplace=True)\n",
    "    cleanPerov['_out_crystalscore'] = np.where(cleanPerov['_out_crystalscore'] == 4, 1, 0)\n",
    "    out = cleanPerov['_out_crystalscore']\n",
    "    cleanPerov.drop([\"_out_crystalscore\", 'dataset'], axis=1, inplace=True)\n",
    "        \n",
    "    return  _stratify(cleanPerov, out, inchis, sampleCutoff)"
   ]
  },
  {
   "cell_type": "code",
   "execution_count": 37,
   "metadata": {
    "scrolled": true
   },
   "outputs": [],
   "source": [
    "perov = pd.read_csv('minimal57Perov.csv')\n",
    "perov = perov[perov['_raw_RelativeHumidity'] != -1].reset_index(drop=True)\n",
    "inchis = pd.DataFrame.from_dict({\"inchis\":perov['_rxn_organic-inchikey'].values})\n",
    "perov.fillna(0, inplace=True)\n",
    "\n",
    "perov['_out_crystalscore'] = np.where(perov['_out_crystalscore'] == 4, True, False) + \\\n",
    "                             np.where(perov['_out_crystalscore'] == 3, True, False)\n",
    "\n",
    "out = perov['_out_crystalscore']\n",
    "perov = perov.select_dtypes(exclude=['object'])\n",
    "perov.drop([\"_out_crystalscore\"], axis=1, inplace=True)\n",
    "\n",
    "stratPerov, stratOut, indicies = _stratify(perov, out, inchis, 95)"
   ]
  },
  {
   "cell_type": "code",
   "execution_count": 31,
   "metadata": {},
   "outputs": [
    {
     "name": "stdout",
     "output_type": "stream",
     "text": [
      "(3800, 52)\n",
      "(3800,)\n"
     ]
    }
   ],
   "source": [
    "print(stratPerov.shape)\n",
    "print(stratOut.shape)"
   ]
  },
  {
   "cell_type": "code",
   "execution_count": 10,
   "metadata": {},
   "outputs": [],
   "source": [
    "lmnn = LMNN(k=5, solver='SDP', tol=1e-8, max_iter=100)\n",
    "nca = NCA(max_iter=150, tol=1e-5)\n",
    "lda = LDA()\n",
    "kllda = KLLDA() \n",
    "dml_eig = DML_eig()"
   ]
  },
  {
   "cell_type": "code",
   "execution_count": null,
   "metadata": {},
   "outputs": [],
   "source": [
    "# nca.fit(stratPerov.values, stratOut)\n",
    "# nca.metadata()\n",
    "# dump(nca, 'nca_limited_features.joblib')\n",
    "\n",
    "# lda.fit(stratPerov.values, stratOut)\n",
    "# lda.metadata()\n",
    "# dump(lda, 'lda_limited_features.joblib')"
   ]
  },
  {
   "cell_type": "code",
   "execution_count": null,
   "metadata": {},
   "outputs": [],
   "source": []
  },
  {
   "cell_type": "code",
   "execution_count": null,
   "metadata": {
    "scrolled": false
   },
   "outputs": [],
   "source": [
    "results,best,nca_best,detailed = tune_knn(NCA,\n",
    "                                          X=stratPerov.values, \n",
    "                                          y=stratOut,\n",
    "                                          n_neighbors=5,\n",
    "                                          dml_params={'learning_rate':'constant'},\n",
    "                                          tune_args={'num_dims':[2,3,None],'eta0':[0.01,0.1]},\n",
    "                                          # metrics=[1,3,5,'final_expectance'],\n",
    "                                          n_folds=5,n_reps=2,seed=28,verbose=True)"
   ]
  },
  {
   "cell_type": "code",
   "execution_count": null,
   "metadata": {},
   "outputs": [],
   "source": [
    "results"
   ]
  },
  {
   "cell_type": "code",
   "execution_count": null,
   "metadata": {},
   "outputs": [],
   "source": [
    "detailed"
   ]
  },
  {
   "cell_type": "code",
   "execution_count": null,
   "metadata": {},
   "outputs": [],
   "source": [
    "f = open(\"./distanceResults/NCA.pkl\",\"wb+\")\n",
    "pickle.dump(detailed, f)\n",
    "f.close()"
   ]
  },
  {
   "cell_type": "code",
   "execution_count": null,
   "metadata": {},
   "outputs": [],
   "source": [
    "dump(nca_best, \"./distanceResults/NCA_best.joblib\")"
   ]
  },
  {
   "cell_type": "code",
   "execution_count": null,
   "metadata": {},
   "outputs": [],
   "source": [
    "nca_best.num_dims_"
   ]
  },
  {
   "cell_type": "markdown",
   "metadata": {},
   "source": [
    "----  "
   ]
  },
  {
   "cell_type": "code",
   "execution_count": null,
   "metadata": {},
   "outputs": [],
   "source": []
  },
  {
   "cell_type": "code",
   "execution_count": null,
   "metadata": {},
   "outputs": [],
   "source": [
    "mcml_results, mcml_best, mcml_best, mcml_detailed = tune_knn(MCML,\n",
    "                                                        X=stratPerov.values, \n",
    "                                                        y=stratOut,\n",
    "                                                        n_neighbors=5,\n",
    "                                                        dml_params={'learning_rate':'adaptive'},\n",
    "                                                        tune_args={'initial_metric':['euclidean', 'scale']},                                       # metrics=[1,3,5,'final_expectance'],\n",
    "                                                        n_folds=5,n_reps=2,seed=28,verbose=True)"
   ]
  },
  {
   "cell_type": "code",
   "execution_count": null,
   "metadata": {},
   "outputs": [],
   "source": [
    "f = open(\"./distanceResults/MCML.pkl\",\"wb+\")\n",
    "pickle.dump(mcml_detailed, f)\n",
    "f.close()\n",
    "\n",
    "dump(mcml_best, \"./distanceResults/mcml_best.joblib\")"
   ]
  },
  {
   "cell_type": "code",
   "execution_count": null,
   "metadata": {},
   "outputs": [],
   "source": []
  },
  {
   "cell_type": "code",
   "execution_count": null,
   "metadata": {},
   "outputs": [],
   "source": []
  },
  {
   "cell_type": "code",
   "execution_count": 17,
   "metadata": {},
   "outputs": [],
   "source": []
  },
  {
   "cell_type": "code",
   "execution_count": 38,
   "metadata": {},
   "outputs": [
    {
     "name": "stdout",
     "output_type": "stream",
     "text": [
      "0\n",
      "1\n",
      "2\n",
      "3\n",
      "4\n",
      "5\n",
      "6\n",
      "7\n",
      "8\n",
      "9\n"
     ]
    }
   ],
   "source": [
    "euclidean_score = []\n",
    "for i in range(10):\n",
    "    print(i)\n",
    "    xtrain, xtest, ytrain, ytest = train_test_split(stratPerov.values, stratOut,\n",
    "                                                    random_state=np.random.choice(range(1000)))\n",
    "    mknn = MultiDML_kNN(n_neighbors=5, dmls=[lda])\n",
    "    mknn.fit(xtrain, ytrain)\n",
    "    # print(mknn)\n",
    "    euc, _ = mknn.score_all(xtest, ytest)\n",
    "    euclidean_score.append(euc)\n",
    "\n",
    "mean = np.mean(euclidean_score)\n",
    "std = np.std(euclidean_score)"
   ]
  },
  {
   "cell_type": "code",
   "execution_count": 39,
   "metadata": {},
   "outputs": [
    {
     "name": "stdout",
     "output_type": "stream",
     "text": [
      "0.8594736842105263 0.009798524395663382\n"
     ]
    }
   ],
   "source": [
    "print(mean, std)"
   ]
  },
  {
   "cell_type": "code",
   "execution_count": 40,
   "metadata": {},
   "outputs": [],
   "source": [
    "f = open(\"./distanceResults/KNN_3and4.pkl\",\"wb+\")\n",
    "pickle.dump({\"SCORE\":{'MEAN':mean, 'STD':std}}, f)\n",
    "f.close()"
   ]
  },
  {
   "cell_type": "markdown",
   "metadata": {},
   "source": [
    "For fun: \n",
    "    (3&4) vs not-4\n",
    "    Drop -1's in the humidity (because learning distance matrix)\n",
    "    Standardizing input data\n",
    "    \n",
    "    \n",
    "    "
   ]
  },
  {
   "cell_type": "code",
   "execution_count": null,
   "metadata": {},
   "outputs": [],
   "source": []
  },
  {
   "cell_type": "code",
   "execution_count": 29,
   "metadata": {},
   "outputs": [],
   "source": []
  },
  {
   "cell_type": "code",
   "execution_count": null,
   "metadata": {},
   "outputs": [],
   "source": [
    "lmnn.fit(stratPerov.values, stratOut)"
   ]
  },
  {
   "cell_type": "code",
   "execution_count": null,
   "metadata": {},
   "outputs": [],
   "source": [
    "dump(lmnn, 'lmnn_limited_features.joblib')"
   ]
  },
  {
   "cell_type": "code",
   "execution_count": null,
   "metadata": {},
   "outputs": [],
   "source": []
  },
  {
   "cell_type": "code",
   "execution_count": null,
   "metadata": {},
   "outputs": [],
   "source": []
  },
  {
   "cell_type": "code",
   "execution_count": null,
   "metadata": {},
   "outputs": [],
   "source": []
  },
  {
   "cell_type": "code",
   "execution_count": null,
   "metadata": {},
   "outputs": [],
   "source": [
    "knn.predict()"
   ]
  }
 ],
 "metadata": {
  "kernelspec": {
   "display_name": "distance",
   "language": "python",
   "name": "distnace"
  },
  "language_info": {
   "codemirror_mode": {
    "name": "ipython",
    "version": 3
   },
   "file_extension": ".py",
   "mimetype": "text/x-python",
   "name": "python",
   "nbconvert_exporter": "python",
   "pygments_lexer": "ipython3",
   "version": "3.8.3"
  }
 },
 "nbformat": 4,
 "nbformat_minor": 2
}
